{
  "nbformat": 4,
  "nbformat_minor": 0,
  "metadata": {
    "colab": {
      "name": "Monte_Carlo.ipynb",
      "provenance": [],
      "authorship_tag": "ABX9TyP16k0fOELAvNrxI6F5hFT0"
    },
    "kernelspec": {
      "name": "python3",
      "display_name": "Python 3"
    },
    "language_info": {
      "name": "python"
    }
  },
  "cells": [
    {
      "cell_type": "code",
      "metadata": {
        "id": "2eOfCBaTxstd"
      },
      "source": [
        "# Simulations based on random sampling\n",
        "\n",
        "import pandas as pd\n",
        "import numpy as np\n",
        "import matplotlib.pyplot as plt\n",
        "import datetime as dt\n",
        "from pandas_datareader import data as web\n",
        "plt.style.use('ggplot')"
      ],
      "execution_count": 12,
      "outputs": []
    },
    {
      "cell_type": "code",
      "metadata": {
        "id": "6kLKqVb_yhSk"
      },
      "source": [
        " def get_data(ticker, start, end):\n",
        "   data = web.get_data_yahoo(ticker, start, end)\n",
        "   data = data['Adj Close']\n",
        "   returns = data.pct_change()\n",
        "   meanReturns = returns.mean()\n",
        "   covMatrix = returns.cov()\n",
        "\n",
        "   return meanReturns, covMatrix\n",
        "\n",
        "\n",
        "stockList = ['MMM', 'T', 'WM', 'KO']\n",
        "# Include a list comprehension for non-american stock exchanges\n",
        "# tickers = [ticker + '.L' for stock in stockList]\n",
        "\n",
        "endDate = dt.datetime.now()\n",
        "startDate = endDate - dt.timedelta(days=300) "
      ],
      "execution_count": 5,
      "outputs": []
    },
    {
      "cell_type": "code",
      "metadata": {
        "id": "xLsUWGPf4ssU"
      },
      "source": [
        "meanReturns, covMatrix = get_data(stockList, startDate, endDate)\n",
        "\n",
        "weights = np.random.random(len(meanReturns))          # Random weights\n",
        "weights /= np.sum(weights)                            # Constrain sum weights = 1\n"
      ],
      "execution_count": null,
      "outputs": []
    },
    {
      "cell_type": "code",
      "metadata": {
        "id": "GuP9PGke6ALk"
      },
      "source": [
        "# Set up Monte Carlo environment\n",
        "\n",
        "simulations = 1000                                    # How many sims\n",
        "T = 100                                               # How many days\n",
        "investment = 100000\n",
        "retrieveArray = np.full(shape=(T, len(weights)), fill_value=meanReturns)\n",
        "retrieveArray = retrieveArray.T                       # Transpose the array you fetch data from\n",
        "\n",
        "pf_simulationArray = np.full(shape=(T, simulations), fill_value=0.0)\n"
      ],
      "execution_count": 17,
      "outputs": []
    },
    {
      "cell_type": "code",
      "metadata": {
        "id": "GXdiBC8m7WLo"
      },
      "source": [
        "# Monte Carlo loop\n",
        "\n",
        "for m in range(0, simulations):\n",
        "  zNorm = np.random.normal(size=(T, len(weights)))        # Random normal \n",
        "  lower = np.linalg.cholesky(covMatrix)                   # Lower triangle\n",
        "\n",
        "  # Portfolio multi variate daily return, as a product of the cholesky decomposition\n",
        "  dailyReturns = retrieveArray + np.inner(lower, zNorm)   \n",
        "\n",
        "  # Record and accumulate the daily returns to product T length simulations\n",
        "  pf_simulationArray[:, m] = np.cumprod(np.inner(weights, dailyReturns.T)+1) * investment\n",
        "\n",
        "\n",
        "plt.figure(figsize=(14,12))\n",
        "plt.ylabel('Portfolio Value ($)')\n",
        "plt.xlabel('Date')\n",
        "plt.title(f'{simulations} Monte Carlo Simulation of Portfolio Value over {T} days')\n",
        "plt.plot(pf_simulationArray)"
      ],
      "execution_count": null,
      "outputs": []
    }
  ]
}