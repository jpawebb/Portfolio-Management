{
  "nbformat": 4,
  "nbformat_minor": 0,
  "metadata": {
    "colab": {
      "name": "FF3FM.ipynb",
      "provenance": [],
      "authorship_tag": "ABX9TyOI4e12TIA66FZODsQ7DPs/"
    },
    "kernelspec": {
      "name": "python3",
      "display_name": "Python 3"
    },
    "language_info": {
      "name": "python"
    }
  },
  "cells": [
    {
      "cell_type": "code",
      "metadata": {
        "id": "ztvbU4wfn2GV"
      },
      "source": [
        "\"\"\" Fama French 3 Factor Model \"\"\"\n",
        "import pandas as pd\n",
        "import pandas_datareader.data as web\n",
        "import datetime as dt\n",
        "import statsmodels.api as sm"
      ],
      "execution_count": 218,
      "outputs": []
    },
    {
      "cell_type": "code",
      "metadata": {
        "id": "ZZZ4hB1toBPY"
      },
      "source": [
        "\"\"\" Constants for data fetching \"\"\"\n",
        "end_date = dt.date(2021,1,30)\n",
        "start_date = dt.date(end_date.year - 8, end_date.month, end_date.day)\n",
        "portfolio = ['VWRL.L']\n",
        "\n",
        "pf_returns = web.get_data_yahoo(portfolio, start_date, end_date)['Adj Close'].pct_change()"
      ],
      "execution_count": 219,
      "outputs": []
    },
    {
      "cell_type": "code",
      "metadata": {
        "id": "qbw72E1npYht"
      },
      "source": [
        "\"\"\" Monthly cumfreq and slice NaN at position 0 \"\"\"\n",
        "pf_returns_monthly = pf_returns.resample('M').agg(lambda x: (x+1).prod() - 1)"
      ],
      "execution_count": 220,
      "outputs": []
    },
    {
      "cell_type": "code",
      "metadata": {
        "id": "MwR2rc13qeYQ"
      },
      "source": [
        "\"\"\" Fama French request brings dictionary so index [0] for df \"\"\"\n",
        "ff_factors = web.DataReader('F-F_Research_Data_Factors', 'famafrench', start_date, end_date)[0]"
      ],
      "execution_count": 221,
      "outputs": []
    },
    {
      "cell_type": "code",
      "metadata": {
        "id": "BITNR8yvtSub"
      },
      "source": [
        "\"\"\" Format date index \"\"\"\n",
        "pf_returns_monthly.index = ff_factors.index"
      ],
      "execution_count": 222,
      "outputs": []
    },
    {
      "cell_type": "code",
      "metadata": {
        "id": "sQZuGt7nt4AY"
      },
      "source": [
        "\"\"\" Now merge \"\"\"\n",
        "combined = pd.merge(pf_returns_monthly, ff_factors, on='Date')"
      ],
      "execution_count": 223,
      "outputs": []
    },
    {
      "cell_type": "code",
      "metadata": {
        "id": "OPJoWfXpuIj6"
      },
      "source": [
        "\"\"\" Fama French uses % not fractions \"\"\"\n",
        "combined[['Mkt-RF', 'SMB', 'HML', 'RF']] = combined[['Mkt-RF', 'SMB', 'HML', 'RF']]/100"
      ],
      "execution_count": 224,
      "outputs": []
    },
    {
      "cell_type": "code",
      "metadata": {
        "id": "_pou4H__ug-A"
      },
      "source": [
        "\"\"\" Excess return column \"\"\"\n",
        "combined['VWRL.L-RF'] = combined['VWRL.L'] - combined.RF"
      ],
      "execution_count": 225,
      "outputs": []
    },
    {
      "cell_type": "code",
      "metadata": {
        "id": "z2vxOlUJu6U3"
      },
      "source": [
        "\"\"\" Now establish regression constants \"\"\"\n",
        "y = combined['VWRL.L-RF']\n",
        "X = combined[['Mkt-RF', 'SMB', 'HML']]\n",
        "\n",
        "X_sm = sm.add_constant(X)"
      ],
      "execution_count": 226,
      "outputs": []
    },
    {
      "cell_type": "code",
      "metadata": {
        "colab": {
          "base_uri": "https://localhost:8080/",
          "height": 458
        },
        "id": "d18m67SGvacO",
        "outputId": "bf1e8859-8bb4-48cd-b099-8673ed52f029"
      },
      "source": [
        "\"\"\" Define Model \n",
        "Generally R2 is high\n",
        "Mkt-RF = Beta, risk wrt market \n",
        "SMB = Cap., + means smaller stocks\n",
        "HML = Growth, + means more growth \n",
        "const = Alpha, positive performance over risks, but very high P value \n",
        "\"\"\"\n",
        "model = sm.OLS(y, X_sm)\n",
        "results = model.fit()\n",
        "results.summary()\n",
        "\n"
      ],
      "execution_count": 227,
      "outputs": [
        {
          "output_type": "execute_result",
          "data": {
            "text/html": [
              "<table class=\"simpletable\">\n",
              "<caption>OLS Regression Results</caption>\n",
              "<tr>\n",
              "  <th>Dep. Variable:</th>        <td>VWRL.L-RF</td>    <th>  R-squared:         </th> <td>   0.568</td>\n",
              "</tr>\n",
              "<tr>\n",
              "  <th>Model:</th>                   <td>OLS</td>       <th>  Adj. R-squared:    </th> <td>   0.554</td>\n",
              "</tr>\n",
              "<tr>\n",
              "  <th>Method:</th>             <td>Least Squares</td>  <th>  F-statistic:       </th> <td>   40.80</td>\n",
              "</tr>\n",
              "<tr>\n",
              "  <th>Date:</th>             <td>Fri, 02 Apr 2021</td> <th>  Prob (F-statistic):</th> <td>6.45e-17</td>\n",
              "</tr>\n",
              "<tr>\n",
              "  <th>Time:</th>                 <td>13:38:10</td>     <th>  Log-Likelihood:    </th> <td>  233.69</td>\n",
              "</tr>\n",
              "<tr>\n",
              "  <th>No. Observations:</th>      <td>    97</td>      <th>  AIC:               </th> <td>  -459.4</td>\n",
              "</tr>\n",
              "<tr>\n",
              "  <th>Df Residuals:</th>          <td>    93</td>      <th>  BIC:               </th> <td>  -449.1</td>\n",
              "</tr>\n",
              "<tr>\n",
              "  <th>Df Model:</th>              <td>     3</td>      <th>                     </th>     <td> </td>   \n",
              "</tr>\n",
              "<tr>\n",
              "  <th>Covariance Type:</th>      <td>nonrobust</td>    <th>                     </th>     <td> </td>   \n",
              "</tr>\n",
              "</table>\n",
              "<table class=\"simpletable\">\n",
              "<tr>\n",
              "     <td></td>       <th>coef</th>     <th>std err</th>      <th>t</th>      <th>P>|t|</th>  <th>[0.025</th>    <th>0.975]</th>  \n",
              "</tr>\n",
              "<tr>\n",
              "  <th>const</th>  <td>   -0.0003</td> <td>    0.002</td> <td>   -0.115</td> <td> 0.909</td> <td>   -0.005</td> <td>    0.005</td>\n",
              "</tr>\n",
              "<tr>\n",
              "  <th>Mkt-RF</th> <td>    0.6357</td> <td>    0.059</td> <td>   10.815</td> <td> 0.000</td> <td>    0.519</td> <td>    0.752</td>\n",
              "</tr>\n",
              "<tr>\n",
              "  <th>SMB</th>    <td>   -0.1720</td> <td>    0.094</td> <td>   -1.829</td> <td> 0.071</td> <td>   -0.359</td> <td>    0.015</td>\n",
              "</tr>\n",
              "<tr>\n",
              "  <th>HML</th>    <td>   -0.0165</td> <td>    0.082</td> <td>   -0.201</td> <td> 0.841</td> <td>   -0.180</td> <td>    0.147</td>\n",
              "</tr>\n",
              "</table>\n",
              "<table class=\"simpletable\">\n",
              "<tr>\n",
              "  <th>Omnibus:</th>       <td> 4.848</td> <th>  Durbin-Watson:     </th> <td>   2.395</td>\n",
              "</tr>\n",
              "<tr>\n",
              "  <th>Prob(Omnibus):</th> <td> 0.089</td> <th>  Jarque-Bera (JB):  </th> <td>   4.639</td>\n",
              "</tr>\n",
              "<tr>\n",
              "  <th>Skew:</th>          <td> 0.334</td> <th>  Prob(JB):          </th> <td>  0.0983</td>\n",
              "</tr>\n",
              "<tr>\n",
              "  <th>Kurtosis:</th>      <td> 3.838</td> <th>  Cond. No.          </th> <td>    43.6</td>\n",
              "</tr>\n",
              "</table><br/><br/>Warnings:<br/>[1] Standard Errors assume that the covariance matrix of the errors is correctly specified."
            ],
            "text/plain": [
              "<class 'statsmodels.iolib.summary.Summary'>\n",
              "\"\"\"\n",
              "                            OLS Regression Results                            \n",
              "==============================================================================\n",
              "Dep. Variable:              VWRL.L-RF   R-squared:                       0.568\n",
              "Model:                            OLS   Adj. R-squared:                  0.554\n",
              "Method:                 Least Squares   F-statistic:                     40.80\n",
              "Date:                Fri, 02 Apr 2021   Prob (F-statistic):           6.45e-17\n",
              "Time:                        13:38:10   Log-Likelihood:                 233.69\n",
              "No. Observations:                  97   AIC:                            -459.4\n",
              "Df Residuals:                      93   BIC:                            -449.1\n",
              "Df Model:                           3                                         \n",
              "Covariance Type:            nonrobust                                         \n",
              "==============================================================================\n",
              "                 coef    std err          t      P>|t|      [0.025      0.975]\n",
              "------------------------------------------------------------------------------\n",
              "const         -0.0003      0.002     -0.115      0.909      -0.005       0.005\n",
              "Mkt-RF         0.6357      0.059     10.815      0.000       0.519       0.752\n",
              "SMB           -0.1720      0.094     -1.829      0.071      -0.359       0.015\n",
              "HML           -0.0165      0.082     -0.201      0.841      -0.180       0.147\n",
              "==============================================================================\n",
              "Omnibus:                        4.848   Durbin-Watson:                   2.395\n",
              "Prob(Omnibus):                  0.089   Jarque-Bera (JB):                4.639\n",
              "Skew:                           0.334   Prob(JB):                       0.0983\n",
              "Kurtosis:                       3.838   Cond. No.                         43.6\n",
              "==============================================================================\n",
              "\n",
              "Warnings:\n",
              "[1] Standard Errors assume that the covariance matrix of the errors is correctly specified.\n",
              "\"\"\""
            ]
          },
          "metadata": {
            "tags": []
          },
          "execution_count": 227
        }
      ]
    }
  ]
}