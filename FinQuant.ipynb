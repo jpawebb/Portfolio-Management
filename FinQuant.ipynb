{
  "nbformat": 4,
  "nbformat_minor": 0,
  "metadata": {
    "colab": {
      "name": "FinQuant.ipynb",
      "provenance": [],
      "authorship_tag": "ABX9TyPbLjDhbVof9GADlmi82K7o"
    },
    "kernelspec": {
      "name": "python3",
      "display_name": "Python 3"
    },
    "language_info": {
      "name": "python"
    }
  },
  "cells": [
    {
      "cell_type": "code",
      "metadata": {
        "id": "CeLasDSK99fd"
      },
      "source": [
        "# !git clone https://github.com/fmilthaler/FinQuant.git\n",
        "# !pip install FinQuant"
      ],
      "execution_count": null,
      "outputs": []
    },
    {
      "cell_type": "code",
      "metadata": {
        "id": "UPfUiXDx-Cgh",
        "colab": {
          "base_uri": "https://localhost:8080/",
          "height": 52
        },
        "outputId": "eec29ada-2258-48bd-dac7-b1494553b987"
      },
      "source": [
        "\"\"\"\" FinQuant \"\"\"\n",
        "import pathlib\n",
        "from finquant.portfolio import *\n",
        "from finquant.moving_average import compute_ma, ema\n",
        "import pandas as pd\n",
        "import datetime\n",
        "\n",
        "\"\"\" Remember to somehow account for price differences between currencies, namely\n",
        "GBp to USD, and Yen \"\"\"\n",
        "names = ['GOOG', 'AMZN', 'OCDO.L', 'DIS', 'TSLA', 'WM', 'MMM', 'BTC-USD']\n",
        "# London stocks need to be accounted for currency\n",
        "pf = build_portfolio(names=names, data_api=\"yfinance\", )\n",
        "\n",
        "\"\"\" This will give you rfr, ER, vol, Sharpe, skew and kurt of equal wight pf \"\"\"\n",
        "# pf.properties()\n",
        "\n",
        "\n"
      ],
      "execution_count": null,
      "outputs": [
        {
          "output_type": "stream",
          "text": [
            "[*********************100%***********************]  8 of 8 completed\n"
          ],
          "name": "stdout"
        },
        {
          "output_type": "execute_result",
          "data": {
            "application/vnd.google.colaboratory.intrinsic+json": {
              "type": "string"
            },
            "text/plain": [
              "' This will give you rfr, ER, vol, Sharpe, skew and kurt of equal wight pf '"
            ]
          },
          "metadata": {
            "tags": []
          },
          "execution_count": 88
        }
      ]
    },
    {
      "cell_type": "code",
      "metadata": {
        "id": "0uz5JY9sBUOG"
      },
      "source": [
        "\"\"\" Build ema graph of a stock with moving average windows\"\"\"\n",
        "dis = pf.get_stock(\"DIS\").data.copy(deep=True)\n",
        "dis1 = dis.iloc[14000:]                             # Split data to more recent\n",
        "spans = [10, 50, 100, 150, 200]\n",
        "\n",
        "ma = compute_ma(dis1, ema, spans, plot=True)\n"
      ],
      "execution_count": null,
      "outputs": []
    },
    {
      "cell_type": "code",
      "metadata": {
        "id": "s5yPTiBPBpRn"
      },
      "source": [
        "\"\"\" Basic optimisation by minimising vol and maximising Sharpe \"\"\"\n",
        "opt_w, opt_res = pf.mc_optimisation(num_trials=5000)      # Monte Carlo weights and results\n",
        "print(opt_res)                                            # Plot stats for optimals\n",
        "\n",
        "with pd.option_context('display.max_rows', None, 'display.max_columns', None):  # Make pandas return whole df\n",
        "    print(opt_w)\n",
        "\n",
        "plt.figure(figsize=(22,14))\n",
        "pf.mc_plot_results()"
      ],
      "execution_count": null,
      "outputs": []
    },
    {
      "cell_type": "code",
      "metadata": {
        "id": "HLlGpik4E8jH"
      },
      "source": [
        "\"\"\" Show indiv. stocks \"\"\"\n",
        "plt.figure(figsize=(22,14))\n",
        "\n",
        "pf.ef_plot_efrontier()\n",
        "pf.ef_plot_optimal_portfolios()\n",
        "pf.plot_stocks()"
      ],
      "execution_count": null,
      "outputs": []
    },
    {
      "cell_type": "markdown",
      "metadata": {
        "id": "1zonwv6hGspl"
      },
      "source": [
        "The OOP of FinQuant\n",
        "The public classes of Stock (individual objects) and Portfolio (groups of stock objects)\n",
        "\n",
        "These classes can calculate:\n",
        "\n",
        "\n",
        "*   Cumulative returns on pf\n",
        "*   Daily returns (% and log)\n",
        "*   Expected annualised return\n",
        "*   Volatility, Skew and Kurtosis\n",
        "*   Sharpe Ratio\n",
        "*   Covariance matrix\n",
        "*   Daily returns\n",
        "\n",
        "And can be optimised for:\n",
        "\n",
        "\n",
        "*   Min volatility \n",
        "*   Max Sharpe\n",
        "*   ***Min vol, expected return***\n",
        "*   ***Max Sharpe, given vol***\n",
        "\n",
        "Also, software can plot monte carlos, efficient frontiers, min vol given numerical optimisation or expected return, max sharpe give numerical optimisation or target volatility. \n"
      ]
    },
    {
      "cell_type": "code",
      "metadata": {
        "id": "yB1vZmPAGhrX"
      },
      "source": [
        "\"\"\" When reading in, portfolio data is just a dictionary of \n",
        "{0: {'Name': 'Ticker', 'Allocation': Number},\n",
        "{1: {'Name': 'Ticker', 'Allocation': Number},\n",
        "{n: {'Name': 'Ticker', 'Allocation': Number}\n",
        "}\n",
        "Alternatively parse in 2 csv files....\n",
        "\"\"\"\n",
        "\n",
        "\n",
        "df_data = pd.read_csv('/content/Pfolio.csv', index_col='Date', parse_dates=True)\n",
        "df_data.drop(columns=['SP500'], inplace=True)     # Drop S&P as not ticker\n",
        "pf_data = pd.read_csv('/content/Pfolio_weights.csv')\n",
        "\n",
        "\"\"\" Create the portfolio object \"\"\"\n",
        "pf2 = build_portfolio(data=df_data, pf_allocation=pf_data)"
      ],
      "execution_count": null,
      "outputs": []
    },
    {
      "cell_type": "code",
      "metadata": {
        "id": "XIUpZbNRG81e"
      },
      "source": [
        "\"\"\" Analyse portfolio object \"\"\"\n",
        "print(pf2)\n",
        "pf2.properties()\n",
        "\n",
        "print(pf2.comp_cumulative_returns())\n",
        "print(pf2.comp_daily_log_returns())\n",
        "\n",
        "pf2.comp_daily_log_returns().plot().axhline(y=0, color='black')"
      ],
      "execution_count": null,
      "outputs": []
    },
    {
      "cell_type": "code",
      "metadata": {
        "id": "1ab1F1ENv7-C"
      },
      "source": [
        "\"\"\" Single Stocks \"\"\"\n",
        "tsla = pf2.get_stock(\"TSLA\")\n",
        "tsla_prices = tsla.data\n",
        "print(tsla.properties())"
      ],
      "execution_count": null,
      "outputs": []
    },
    {
      "cell_type": "code",
      "metadata": {
        "id": "MtZxU7Qcwdan"
      },
      "source": [
        "print(pf2.data.loc[str(datetime.datetime(2018, 1, 1))])\n",
        "print(pf2.data.loc[pf2.data.index > datetime.datetime(2020, 1, 1)])"
      ],
      "execution_count": null,
      "outputs": []
    },
    {
      "cell_type": "code",
      "metadata": {
        "colab": {
          "base_uri": "https://localhost:8080/",
          "height": 394
        },
        "id": "uIs_2iOWxPLs",
        "outputId": "41477a9d-75ae-4699-c780-9e334df29d4e"
      },
      "source": [
        "# Max Sharpe, target vol\n",
        "pf2.ef_efficient_volatility(0.15, verbose=True)"
      ],
      "execution_count": null,
      "outputs": [
        {
          "output_type": "stream",
          "text": [
            "----------------------------------------------------------------------\n",
            "Optimised portfolio for Efficient Volatility\n",
            "\n",
            "Time window/frequency: 252\n",
            "Risk free rate: 0.005\n",
            "Expected annual Return: 0.807\n",
            "Annual Volatility: 0.619\n",
            "Sharpe Ratio: 1.296\n",
            "\n",
            "Optimal weights:\n",
            "                      FB          NFLX  TSLA           JPM\n",
            "Allocation  2.457699e-15  1.751073e-13   1.0  2.521474e-15\n",
            "----------------------------------------------------------------------\n"
          ],
          "name": "stdout"
        },
        {
          "output_type": "execute_result",
          "data": {
            "text/html": [
              "<div>\n",
              "<style scoped>\n",
              "    .dataframe tbody tr th:only-of-type {\n",
              "        vertical-align: middle;\n",
              "    }\n",
              "\n",
              "    .dataframe tbody tr th {\n",
              "        vertical-align: top;\n",
              "    }\n",
              "\n",
              "    .dataframe thead th {\n",
              "        text-align: right;\n",
              "    }\n",
              "</style>\n",
              "<table border=\"1\" class=\"dataframe\">\n",
              "  <thead>\n",
              "    <tr style=\"text-align: right;\">\n",
              "      <th></th>\n",
              "      <th>Allocation</th>\n",
              "    </tr>\n",
              "  </thead>\n",
              "  <tbody>\n",
              "    <tr>\n",
              "      <th>FB</th>\n",
              "      <td>2.457699e-15</td>\n",
              "    </tr>\n",
              "    <tr>\n",
              "      <th>NFLX</th>\n",
              "      <td>1.751073e-13</td>\n",
              "    </tr>\n",
              "    <tr>\n",
              "      <th>TSLA</th>\n",
              "      <td>1.000000e+00</td>\n",
              "    </tr>\n",
              "    <tr>\n",
              "      <th>JPM</th>\n",
              "      <td>2.521474e-15</td>\n",
              "    </tr>\n",
              "  </tbody>\n",
              "</table>\n",
              "</div>"
            ],
            "text/plain": [
              "        Allocation\n",
              "FB    2.457699e-15\n",
              "NFLX  1.751073e-13\n",
              "TSLA  1.000000e+00\n",
              "JPM   2.521474e-15"
            ]
          },
          "metadata": {
            "tags": []
          },
          "execution_count": 132
        }
      ]
    }
  ]
}